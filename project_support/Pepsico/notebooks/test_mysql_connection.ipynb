{
 "cells": [
  {
   "cell_type": "code",
   "execution_count": 3,
   "metadata": {},
   "outputs": [
    {
     "name": "stdout",
     "output_type": "stream",
     "text": [
      "Collecting mysql-connector-python==8.0.33\n",
      "  Downloading mysql_connector_python-8.0.33-cp310-cp310-macosx_12_0_arm64.whl.metadata (1.9 kB)\n",
      "Collecting protobuf<=3.20.3,>=3.11.0 (from mysql-connector-python==8.0.33)\n",
      "  Downloading protobuf-3.20.3-py2.py3-none-any.whl.metadata (720 bytes)\n",
      "Downloading mysql_connector_python-8.0.33-cp310-cp310-macosx_12_0_arm64.whl (8.4 MB)\n",
      "\u001b[2K   \u001b[90m━━━━━━━━━━━━━━━━━━━━━━━━━━━━━━━━━━━━━━━━\u001b[0m \u001b[32m8.4/8.4 MB\u001b[0m \u001b[31m1.5 MB/s\u001b[0m eta \u001b[36m0:00:00\u001b[0m00:01\u001b[0m00:01\u001b[0m0m\n",
      "\u001b[?25hDownloading protobuf-3.20.3-py2.py3-none-any.whl (162 kB)\n",
      "\u001b[2K   \u001b[90m━━━━━━━━━━━━━━━━━━━━━━━━━━━━━━━━━━━━━━━━\u001b[0m \u001b[32m162.1/162.1 kB\u001b[0m \u001b[31m2.0 MB/s\u001b[0m eta \u001b[36m0:00:00\u001b[0ma \u001b[36m0:00:01\u001b[0m\n",
      "\u001b[?25hInstalling collected packages: protobuf, mysql-connector-python\n",
      "Successfully installed mysql-connector-python-8.0.33 protobuf-3.20.3\n"
     ]
    }
   ],
   "source": [
    "!pip install mysql-connector-python==8.0.33"
   ]
  },
  {
   "cell_type": "code",
   "execution_count": 5,
   "metadata": {},
   "outputs": [],
   "source": [
    "import mysql.connector\n",
    "import json \n",
    "\n",
    "confidentials = json.load(open('../confidential/allen_confidential.json'))"
   ]
  },
  {
   "cell_type": "code",
   "execution_count": 6,
   "metadata": {},
   "outputs": [
    {
     "name": "stdout",
     "output_type": "stream",
     "text": [
      "('douyin',)\n",
      "('information_schema',)\n",
      "('mysql',)\n",
      "('performance_schema',)\n",
      "('xiaohongshu',)\n"
     ]
    }
   ],
   "source": [
    "import mysql.connector\n",
    "\n",
    "mydb = mysql.connector.connect(\n",
    "    host = confidentials['host'],\n",
    "    user = confidentials['user'],\n",
    "    password = confidentials['password'],\n",
    "    port = confidentials['port'],\n",
    ")\n",
    "\n",
    "mycursor = mydb.cursor()\n",
    "\n",
    "mycursor.execute(\"SHOW DATABASES\")\n",
    "\n",
    "for x in mycursor:\n",
    "  print(x)\n",
    "\n",
    "# mydb.close()"
   ]
  },
  {
   "cell_type": "code",
   "execution_count": 9,
   "metadata": {},
   "outputs": [
    {
     "name": "stdout",
     "output_type": "stream",
     "text": [
      "('preprocessed_202304',)\n",
      "('preprocessed_202305',)\n",
      "('preprocessed_202306',)\n",
      "('preprocessed_202307',)\n",
      "('preprocessed_202308',)\n",
      "('preprocessed_202309',)\n",
      "('preprocessed_202310',)\n",
      "('preprocessed_202311',)\n",
      "('preprocessed_202312',)\n",
      "('preprocessed_q1_202301',)\n",
      "('preprocessed_q1_202302',)\n",
      "('preprocessed_q1_202303',)\n",
      "('preprocessed_q2_202304',)\n",
      "('preprocessed_q2_202305',)\n",
      "('preprocessed_q2_202306',)\n",
      "('preprocessed_q3_202307',)\n",
      "('preprocessed_q3_202308',)\n",
      "('preprocessed_q3_202309',)\n",
      "('preprocessed_q4_202310',)\n",
      "('preprocessed_q4_202311',)\n",
      "('preprocessed_q4_202312',)\n",
      "('raw_q1_202301',)\n",
      "('raw_q1_202302',)\n",
      "('raw_q1_202303',)\n",
      "('raw_q2_202304',)\n",
      "('raw_q2_202305',)\n",
      "('raw_q2_202306',)\n",
      "('raw_q3_202307',)\n",
      "('raw_q3_202308',)\n",
      "('raw_q3_202309',)\n",
      "('raw_q4_202310',)\n",
      "('raw_q4_202311',)\n",
      "('raw_q4_202312',)\n",
      "('sample_v0506',)\n",
      "('tag_kwd_all',)\n",
      "('tag_kwd_character_type',)\n",
      "('tag_kwd_emotional_atmosphere',)\n",
      "('tag_kwd_food_category',)\n",
      "('tag_kwd_food_usage',)\n",
      "('tag_kwd_is_retail_food',)\n",
      "('tag_kwd_macro_occasion',)\n",
      "('tag_kwd_micro_occasion',)\n",
      "('tag_kwd_painpoint',)\n",
      "('tag_kwd_text_topic',)\n",
      "('tag_kwd_text_type',)\n",
      "('tag_kwd_time',)\n",
      "('tag_kwd_topic_relevance',)\n",
      "('tag_kwd_when',)\n",
      "('tag_kwd_where',)\n",
      "('tagged_content_sample',)\n",
      "('tagged_content_sample_v0506',)\n"
     ]
    }
   ],
   "source": [
    "mycursor.execute(\"USE xiaohongshu\")\n",
    "mycursor.execute(\"SHOW TABLES\")\n",
    "\n",
    "for x in mycursor:\n",
    "  print(x)"
   ]
  },
  {
   "cell_type": "code",
   "execution_count": 15,
   "metadata": {},
   "outputs": [
    {
     "name": "stderr",
     "output_type": "stream",
     "text": [
      "/var/folders/nx/d8ckq9qd7l3dz5plmv5gdj_40000gn/T/ipykernel_38527/2339926328.py:3: UserWarning: pandas only supports SQLAlchemy connectable (engine/connection) or database string URI or sqlite3 DBAPI2 connection. Other DBAPI2 objects are not tested. Please consider using SQLAlchemy.\n",
      "  pd.read_sql(\"select tag_category, count(*) from tag_kwd_all group by 1\", con = mydb)\n"
     ]
    },
    {
     "data": {
      "text/html": [
       "<div>\n",
       "<style scoped>\n",
       "    .dataframe tbody tr th:only-of-type {\n",
       "        vertical-align: middle;\n",
       "    }\n",
       "\n",
       "    .dataframe tbody tr th {\n",
       "        vertical-align: top;\n",
       "    }\n",
       "\n",
       "    .dataframe thead th {\n",
       "        text-align: right;\n",
       "    }\n",
       "</style>\n",
       "<table border=\"1\" class=\"dataframe\">\n",
       "  <thead>\n",
       "    <tr style=\"text-align: right;\">\n",
       "      <th></th>\n",
       "      <th>tag_category</th>\n",
       "      <th>count(*)</th>\n",
       "    </tr>\n",
       "  </thead>\n",
       "  <tbody>\n",
       "    <tr>\n",
       "      <th>0</th>\n",
       "      <td>人物类型</td>\n",
       "      <td>27180</td>\n",
       "    </tr>\n",
       "    <tr>\n",
       "      <th>1</th>\n",
       "      <td>时间</td>\n",
       "      <td>10169</td>\n",
       "    </tr>\n",
       "  </tbody>\n",
       "</table>\n",
       "</div>"
      ],
      "text/plain": [
       "  tag_category  count(*)\n",
       "0         人物类型     27180\n",
       "1           时间     10169"
      ]
     },
     "execution_count": 15,
     "metadata": {},
     "output_type": "execute_result"
    }
   ],
   "source": [
    "import pandas as pd\n",
    "mycursor.execute(\"USE xiaohongshu\")\n",
    "pd.read_sql(\"select tag_category, count(*) from tag_kwd_all group by 1\", con = mydb)"
   ]
  },
  {
   "cell_type": "code",
   "execution_count": 26,
   "metadata": {},
   "outputs": [
    {
     "data": {
      "text/plain": [
       "mysql.connector.connection_cext.CMySQLConnection"
      ]
     },
     "execution_count": 26,
     "metadata": {},
     "output_type": "execute_result"
    }
   ],
   "source": [
    "type(mydb)"
   ]
  },
  {
   "cell_type": "code",
   "execution_count": null,
   "metadata": {},
   "outputs": [],
   "source": []
  }
 ],
 "metadata": {
  "kernelspec": {
   "display_name": ".venv",
   "language": "python",
   "name": "python3"
  },
  "language_info": {
   "codemirror_mode": {
    "name": "ipython",
    "version": 3
   },
   "file_extension": ".py",
   "mimetype": "text/x-python",
   "name": "python",
   "nbconvert_exporter": "python",
   "pygments_lexer": "ipython3",
   "version": "3.10.7"
  }
 },
 "nbformat": 4,
 "nbformat_minor": 2
}
