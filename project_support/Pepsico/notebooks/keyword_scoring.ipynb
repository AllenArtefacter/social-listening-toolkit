{
 "cells": [
  {
   "cell_type": "code",
   "execution_count": 1,
   "metadata": {},
   "outputs": [],
   "source": [
    "import sys \n",
    "import os \n",
    "sys.path.insert(0, os.path.dirname(os.getcwd()))"
   ]
  },
  {
   "cell_type": "code",
   "execution_count": 2,
   "metadata": {},
   "outputs": [],
   "source": [
    "from utils import get_connection\n",
    "import pandas as pd\n",
    "import warnings\n",
    "warnings.filterwarnings(\"ignore\")"
   ]
  },
  {
   "cell_type": "code",
   "execution_count": 3,
   "metadata": {},
   "outputs": [
    {
     "name": "stdout",
     "output_type": "stream",
     "text": [
      "connecting to rm-uf6lfxk83h7onjmwvjo.mysql.rds.aliyuncs.com3306/\n"
     ]
    }
   ],
   "source": [
    "con = get_connection()"
   ]
  },
  {
   "cell_type": "code",
   "execution_count": 11,
   "metadata": {},
   "outputs": [
    {
     "data": {
      "text/html": [
       "<div>\n",
       "<style scoped>\n",
       "    .dataframe tbody tr th:only-of-type {\n",
       "        vertical-align: middle;\n",
       "    }\n",
       "\n",
       "    .dataframe tbody tr th {\n",
       "        vertical-align: top;\n",
       "    }\n",
       "\n",
       "    .dataframe thead th {\n",
       "        text-align: right;\n",
       "    }\n",
       "</style>\n",
       "<table border=\"1\" class=\"dataframe\">\n",
       "  <thead>\n",
       "    <tr style=\"text-align: right;\">\n",
       "      <th></th>\n",
       "      <th>Database</th>\n",
       "    </tr>\n",
       "  </thead>\n",
       "  <tbody>\n",
       "    <tr>\n",
       "      <th>0</th>\n",
       "      <td>douyin</td>\n",
       "    </tr>\n",
       "    <tr>\n",
       "      <th>1</th>\n",
       "      <td>information_schema</td>\n",
       "    </tr>\n",
       "    <tr>\n",
       "      <th>2</th>\n",
       "      <td>mysql</td>\n",
       "    </tr>\n",
       "    <tr>\n",
       "      <th>3</th>\n",
       "      <td>performance_schema</td>\n",
       "    </tr>\n",
       "    <tr>\n",
       "      <th>4</th>\n",
       "      <td>validation</td>\n",
       "    </tr>\n",
       "    <tr>\n",
       "      <th>5</th>\n",
       "      <td>xiaohongshu</td>\n",
       "    </tr>\n",
       "  </tbody>\n",
       "</table>\n",
       "</div>"
      ],
      "text/plain": [
       "             Database\n",
       "0              douyin\n",
       "1  information_schema\n",
       "2               mysql\n",
       "3  performance_schema\n",
       "4          validation\n",
       "5         xiaohongshu"
      ]
     },
     "execution_count": 11,
     "metadata": {},
     "output_type": "execute_result"
    }
   ],
   "source": [
    "pd.read_sql(\"show databases \",con)\n"
   ]
  },
  {
   "cell_type": "code",
   "execution_count": 12,
   "metadata": {},
   "outputs": [],
   "source": [
    "df_selective_mapping = pd.read_sql(\"SELECT * FROM validation.tag_group_text_topic_validation\" ,con)\n",
    "df_selective_mapping = df_selective_mapping.rename(columns= {'tag_old': 'tag_value', 'tag_new':'class_name'})"
   ]
  },
  {
   "cell_type": "code",
   "execution_count": 13,
   "metadata": {},
   "outputs": [],
   "source": [
    "dict_sql = \"\"\"\n",
    "select tag_category, tag_value, keyword\n",
    "from (\n",
    "select * from validation.tag_kwd_text_topic\n",
    ") a \n",
    "\"\"\"\n"
   ]
  },
  {
   "cell_type": "code",
   "execution_count": 14,
   "metadata": {},
   "outputs": [
    {
     "name": "stdout",
     "output_type": "stream",
     "text": [
      "(5817, 3)\n",
      "filtered dictionary: (5376, 5)\n",
      "ttl kw: 4349\n"
     ]
    },
    {
     "data": {
      "text/html": [
       "<div>\n",
       "<style scoped>\n",
       "    .dataframe tbody tr th:only-of-type {\n",
       "        vertical-align: middle;\n",
       "    }\n",
       "\n",
       "    .dataframe tbody tr th {\n",
       "        vertical-align: top;\n",
       "    }\n",
       "\n",
       "    .dataframe thead th {\n",
       "        text-align: right;\n",
       "    }\n",
       "</style>\n",
       "<table border=\"1\" class=\"dataframe\">\n",
       "  <thead>\n",
       "    <tr style=\"text-align: right;\">\n",
       "      <th></th>\n",
       "      <th>tag_category</th>\n",
       "      <th>class_name</th>\n",
       "      <th>kw_ls</th>\n",
       "    </tr>\n",
       "  </thead>\n",
       "  <tbody>\n",
       "    <tr>\n",
       "      <th>0</th>\n",
       "      <td>文本主题</td>\n",
       "      <td>体重管理</td>\n",
       "      <td>[减重, 生活化减肥, 体测, 晚餐打卡, 在校减肥, 减肥第二天, 放纵餐, 低卡甜品, ...</td>\n",
       "    </tr>\n",
       "    <tr>\n",
       "      <th>1</th>\n",
       "      <td>文本主题</td>\n",
       "      <td>健康与养生</td>\n",
       "      <td>[保护心血管, 健脾养胃, 艾草汗蒸, 医师资格考试, 改善睡眠, 熬夜, 脾胃虚弱, 清新...</td>\n",
       "    </tr>\n",
       "    <tr>\n",
       "      <th>2</th>\n",
       "      <td>文本主题</td>\n",
       "      <td>健康与饮食</td>\n",
       "      <td>[我爱eating, 取悦生活, 代餐, 生活化减肥, 喜欢吃糖, 益母草, 一人食吃什么,...</td>\n",
       "    </tr>\n",
       "    <tr>\n",
       "      <th>3</th>\n",
       "      <td>文本主题</td>\n",
       "      <td>儿童饮食与健康</td>\n",
       "      <td>[孩子吵闹时, 宝宝辅食, 宝宝, 脾胃虚弱, 宝宝早餐, 育儿, 宝宝的第一口米粉, 宝宝...</td>\n",
       "    </tr>\n",
       "    <tr>\n",
       "      <th>4</th>\n",
       "      <td>文本主题</td>\n",
       "      <td>其他</td>\n",
       "      <td>[哈密瓜, 好吃, 知识薯, 姥姥家, 显白穿搭, 性格温顺可爱软糯, 薯片, bm穿搭, ...</td>\n",
       "    </tr>\n",
       "  </tbody>\n",
       "</table>\n",
       "</div>"
      ],
      "text/plain": [
       "  tag_category class_name                                              kw_ls\n",
       "0         文本主题       体重管理  [减重, 生活化减肥, 体测, 晚餐打卡, 在校减肥, 减肥第二天, 放纵餐, 低卡甜品, ...\n",
       "1         文本主题      健康与养生  [保护心血管, 健脾养胃, 艾草汗蒸, 医师资格考试, 改善睡眠, 熬夜, 脾胃虚弱, 清新...\n",
       "2         文本主题      健康与饮食  [我爱eating, 取悦生活, 代餐, 生活化减肥, 喜欢吃糖, 益母草, 一人食吃什么,...\n",
       "3         文本主题    儿童饮食与健康  [孩子吵闹时, 宝宝辅食, 宝宝, 脾胃虚弱, 宝宝早餐, 育儿, 宝宝的第一口米粉, 宝宝...\n",
       "4         文本主题         其他  [哈密瓜, 好吃, 知识薯, 姥姥家, 显白穿搭, 性格温顺可爱软糯, 薯片, bm穿搭, ..."
      ]
     },
     "execution_count": 14,
     "metadata": {},
     "output_type": "execute_result"
    }
   ],
   "source": [
    "\n",
    "df_dictionary = pd.read_sql(dict_sql, con = con)\n",
    "print(df_dictionary.shape)\n",
    "df_dictionary = df_dictionary.merge(df_selective_mapping, on = 'tag_value')\n",
    "df_dictionary['kw_len'] = df_dictionary['keyword'].apply(len)\n",
    "df_dictionary = df_dictionary.query(\"kw_len <= 8 & kw_len > 1\")\n",
    "print(\"filtered dictionary:\" , df_dictionary.shape)\n",
    "\n",
    "df_dictionary = (\n",
    "    df_dictionary\n",
    "    .groupby(['tag_category', 'class_name'])\n",
    "    .apply(lambda x: list(set(x['keyword'])))\n",
    "    .rename(index = 'kw_ls')\n",
    "    .reset_index()\n",
    ")\n",
    "\n",
    "print(\"ttl kw:\", df_dictionary['kw_ls'].str.len().sum())\n",
    "\n",
    "df_dictionary.head()"
   ]
  },
  {
   "cell_type": "code",
   "execution_count": 9,
   "metadata": {},
   "outputs": [],
   "source": [
    "def _exact_matching(x, kw_ls, tag_name):\n",
    "    tag:str = None\n",
    "    kw_matched = []\n",
    "    for kw in kw_ls:\n",
    "        if kw in x:\n",
    "            tag = tag_name\n",
    "            kw_matched.append(kw)\n",
    "            # break\n",
    "    return tag,kw_matched\n",
    "    \n",
    "def tag_data_one_category(content, df_dictionary:pd.DataFrame, kw_ls_col = 'kw_ls', tag_value_col = 'tag_value'):\n",
    "    tag_value_ls = []\n",
    "\n",
    "    for tag_value, _dictionary in df_dictionary.groupby(tag_value_col):\n",
    "        kw_ls = _dictionary[kw_ls_col].values[0]\n",
    "\n",
    "        tag, kw_matched = _exact_matching(content, kw_ls, tag_value)\n",
    "\n",
    "        if tag:\n",
    "            tag_value_ls.append({tag: kw_matched})\n",
    "    return tag_value_ls\n",
    "        \n",
    "def tag_data_multi_category(data, df_dictionary, categories, category_col = 'tag_category', content_col = 'content', kw_ls_col = 'kw_ls', tag_value_col = 'tag_value'):\n",
    "    content = data[content_col]\n",
    "    rst = []\n",
    "    for cate in categories:\n",
    "        _df_dictionary = df_dictionary[df_dictionary[category_col] == cate]\n",
    "        tags = tag_data_one_category(content, _df_dictionary, kw_ls_col, tag_value_col)\n",
    "        rst.append(tags)\n",
    "    return rst\n",
    "\n",
    "def tag_data(df_dictionary, data,category_col = 'tag_category', content_col = 'content', kw_ls_col = 'kw_ls', tag_value_col = 'tag_value'):\n",
    "    data = data.copy()\n",
    "    categories = df_dictionary['tag_category'].unique().tolist()\n",
    "    args = dict(category_col =category_col, content_col = content_col, kw_ls_col = kw_ls_col, tag_value_col = tag_value_col)\n",
    "    data[categories] = data.progress_apply(tag_data_multi_category, axis = 1, result_type ='expand',df_dictionary = df_dictionary, categories= categories, **args)\n",
    "    return data"
   ]
  },
  {
   "cell_type": "code",
   "execution_count": 10,
   "metadata": {},
   "outputs": [],
   "source": [
    "from tqdm import tqdm \n",
    "tqdm.pandas()"
   ]
  },
  {
   "cell_type": "code",
   "execution_count": 226,
   "metadata": {},
   "outputs": [
    {
     "data": {
      "text/html": [
       "<div>\n",
       "<style scoped>\n",
       "    .dataframe tbody tr th:only-of-type {\n",
       "        vertical-align: middle;\n",
       "    }\n",
       "\n",
       "    .dataframe tbody tr th {\n",
       "        vertical-align: top;\n",
       "    }\n",
       "\n",
       "    .dataframe thead th {\n",
       "        text-align: right;\n",
       "    }\n",
       "</style>\n",
       "<table border=\"1\" class=\"dataframe\">\n",
       "  <thead>\n",
       "    <tr style=\"text-align: right;\">\n",
       "      <th></th>\n",
       "      <th>id</th>\n",
       "      <th>content</th>\n",
       "      <th>output</th>\n",
       "      <th>text_topic</th>\n",
       "    </tr>\n",
       "  </thead>\n",
       "  <tbody>\n",
       "    <tr>\n",
       "      <th>0</th>\n",
       "      <td>e04592c0da33650d9c837464dca6c706|b9393c69e2e6d...</td>\n",
       "      <td>一拖二的周六，一早起床，勿勿忙忙准备好小娃需要看病的资料，再准备我需要摆摊的工具，大娃补课催...</td>\n",
       "      <td>{'食品类别': '未知', '是否为零售食品': '否', '文本主题': '日常生活挑战...</td>\n",
       "      <td>日常生活挑战</td>\n",
       "    </tr>\n",
       "    <tr>\n",
       "      <th>1</th>\n",
       "      <td>18336dc645f26e3c3944e8c47c1c9831|d035d1c7e67d6...</td>\n",
       "      <td>津铺子的这个0卡果冻回购很多次了，一共四种口味：白桃、青提、荔枝和芒果。四个口味都还不错，口...</td>\n",
       "      <td>{'食品类别': '蜜饯果干', '是否为零售食品': '是', '文本主题': '产品推荐...</td>\n",
       "      <td>产品推荐</td>\n",
       "    </tr>\n",
       "    <tr>\n",
       "      <th>2</th>\n",
       "      <td>b9240d65115b682962187bac31a5a14d|e64571aeb3fbf...</td>\n",
       "      <td>话梅柠檬茶！建议女孩子都把奶茶换成它！ 全网安利的咸柠茶！我能喝一整个夏天！真的好喝到原地转...</td>\n",
       "      <td>{'食品类别': '未知', '是否为零售食品': '是', '文本主题': '饮品推荐',...</td>\n",
       "      <td>饮品推荐</td>\n",
       "    </tr>\n",
       "    <tr>\n",
       "      <th>3</th>\n",
       "      <td>a0e6ebe573ea14303727123a5abbef3e|de754b5d37397...</td>\n",
       "      <td>随手买的香辣鱼尾也太好吃了吧！鱼肉很有嚼劲，麻麻辣辣的也太过瘾了，平时追剧或者嘴馋了来一包，...</td>\n",
       "      <td>{'食品类别': '肉脯卤味', '是否为零售食品': '是', '文本主题': '食品体验...</td>\n",
       "      <td>食品体验</td>\n",
       "    </tr>\n",
       "    <tr>\n",
       "      <th>4</th>\n",
       "      <td>d3fc3728a8c3e13ae5988aa15e4bb0fd|320b8f65d7782...</td>\n",
       "      <td>#踏春赏花最美的景点推荐 #感受大自然的气息和美景 #旅行推荐官 #抖音带你去赏花 #春暖花...</td>\n",
       "      <td>{'食品类别': '未知', '是否为零售食品': '否', '文本主题': '旅游推荐',...</td>\n",
       "      <td>旅游推荐</td>\n",
       "    </tr>\n",
       "  </tbody>\n",
       "</table>\n",
       "</div>"
      ],
      "text/plain": [
       "                                                  id  \\\n",
       "0  e04592c0da33650d9c837464dca6c706|b9393c69e2e6d...   \n",
       "1  18336dc645f26e3c3944e8c47c1c9831|d035d1c7e67d6...   \n",
       "2  b9240d65115b682962187bac31a5a14d|e64571aeb3fbf...   \n",
       "3  a0e6ebe573ea14303727123a5abbef3e|de754b5d37397...   \n",
       "4  d3fc3728a8c3e13ae5988aa15e4bb0fd|320b8f65d7782...   \n",
       "\n",
       "                                             content  \\\n",
       "0  一拖二的周六，一早起床，勿勿忙忙准备好小娃需要看病的资料，再准备我需要摆摊的工具，大娃补课催...   \n",
       "1  津铺子的这个0卡果冻回购很多次了，一共四种口味：白桃、青提、荔枝和芒果。四个口味都还不错，口...   \n",
       "2  话梅柠檬茶！建议女孩子都把奶茶换成它！ 全网安利的咸柠茶！我能喝一整个夏天！真的好喝到原地转...   \n",
       "3  随手买的香辣鱼尾也太好吃了吧！鱼肉很有嚼劲，麻麻辣辣的也太过瘾了，平时追剧或者嘴馋了来一包，...   \n",
       "4  #踏春赏花最美的景点推荐 #感受大自然的气息和美景 #旅行推荐官 #抖音带你去赏花 #春暖花...   \n",
       "\n",
       "                                              output text_topic  \n",
       "0  {'食品类别': '未知', '是否为零售食品': '否', '文本主题': '日常生活挑战...     日常生活挑战  \n",
       "1  {'食品类别': '蜜饯果干', '是否为零售食品': '是', '文本主题': '产品推荐...       产品推荐  \n",
       "2  {'食品类别': '未知', '是否为零售食品': '是', '文本主题': '饮品推荐',...       饮品推荐  \n",
       "3  {'食品类别': '肉脯卤味', '是否为零售食品': '是', '文本主题': '食品体验...       食品体验  \n",
       "4  {'食品类别': '未知', '是否为零售食品': '否', '文本主题': '旅游推荐',...       旅游推荐  "
      ]
     },
     "execution_count": 226,
     "metadata": {},
     "output_type": "execute_result"
    }
   ],
   "source": [
    "data = pd.read_csv('data/validation_3000.csv')\n",
    "data.head()"
   ]
  },
  {
   "cell_type": "code",
   "execution_count": 227,
   "metadata": {},
   "outputs": [
    {
     "name": "stderr",
     "output_type": "stream",
     "text": [
      "  0%|          | 0/3000 [00:00<?, ?it/s]"
     ]
    },
    {
     "name": "stderr",
     "output_type": "stream",
     "text": [
      "100%|██████████| 3000/3000 [00:04<00:00, 696.64it/s]\n"
     ]
    },
    {
     "data": {
      "text/html": [
       "<div>\n",
       "<style scoped>\n",
       "    .dataframe tbody tr th:only-of-type {\n",
       "        vertical-align: middle;\n",
       "    }\n",
       "\n",
       "    .dataframe tbody tr th {\n",
       "        vertical-align: top;\n",
       "    }\n",
       "\n",
       "    .dataframe thead th {\n",
       "        text-align: right;\n",
       "    }\n",
       "</style>\n",
       "<table border=\"1\" class=\"dataframe\">\n",
       "  <thead>\n",
       "    <tr style=\"text-align: right;\">\n",
       "      <th></th>\n",
       "      <th>id</th>\n",
       "      <th>content</th>\n",
       "      <th>output</th>\n",
       "      <th>text_topic</th>\n",
       "      <th>文本主题</th>\n",
       "    </tr>\n",
       "  </thead>\n",
       "  <tbody>\n",
       "    <tr>\n",
       "      <th>0</th>\n",
       "      <td>e04592c0da33650d9c837464dca6c706|b9393c69e2e6d...</td>\n",
       "      <td>一拖二的周六，一早起床，勿勿忙忙准备好小娃需要看病的资料，再准备我需要摆摊的工具，大娃补课催...</td>\n",
       "      <td>{'食品类别': '未知', '是否为零售食品': '否', '文本主题': '日常生活挑战...</td>\n",
       "      <td>日常生活挑战</td>\n",
       "      <td>[{'其他': ['早起', '一拖二', '生活', '生活的人', '摆摊']}, {'...</td>\n",
       "    </tr>\n",
       "    <tr>\n",
       "      <th>1</th>\n",
       "      <td>18336dc645f26e3c3944e8c47c1c9831|d035d1c7e67d6...</td>\n",
       "      <td>津铺子的这个0卡果冻回购很多次了，一共四种口味：白桃、青提、荔枝和芒果。四个口味都还不错，口...</td>\n",
       "      <td>{'食品类别': '蜜饯果干', '是否为零售食品': '是', '文本主题': '产品推荐...</td>\n",
       "      <td>产品推荐</td>\n",
       "      <td>[{'体重管理': ['零食']}, {'健康与养生': ['零食']}, {'其他': [...</td>\n",
       "    </tr>\n",
       "    <tr>\n",
       "      <th>2</th>\n",
       "      <td>b9240d65115b682962187bac31a5a14d|e64571aeb3fbf...</td>\n",
       "      <td>话梅柠檬茶！建议女孩子都把奶茶换成它！ 全网安利的咸柠茶！我能喝一整个夏天！真的好喝到原地转...</td>\n",
       "      <td>{'食品类别': '未知', '是否为零售食品': '是', '文本主题': '饮品推荐',...</td>\n",
       "      <td>饮品推荐</td>\n",
       "      <td>[{'体重管理': ['奶茶']}, {'健康与饮食': ['夏天', '咸柠茶', '柠檬...</td>\n",
       "    </tr>\n",
       "    <tr>\n",
       "      <th>3</th>\n",
       "      <td>a0e6ebe573ea14303727123a5abbef3e|de754b5d37397...</td>\n",
       "      <td>随手买的香辣鱼尾也太好吃了吧！鱼肉很有嚼劲，麻麻辣辣的也太过瘾了，平时追剧或者嘴馋了来一包，...</td>\n",
       "      <td>{'食品类别': '肉脯卤味', '是否为零售食品': '是', '文本主题': '食品体验...</td>\n",
       "      <td>食品体验</td>\n",
       "      <td>[{'体重管理': ['零食']}, {'健康与养生': ['零食']}, {'其他': [...</td>\n",
       "    </tr>\n",
       "    <tr>\n",
       "      <th>4</th>\n",
       "      <td>d3fc3728a8c3e13ae5988aa15e4bb0fd|320b8f65d7782...</td>\n",
       "      <td>#踏春赏花最美的景点推荐 #感受大自然的气息和美景 #旅行推荐官 #抖音带你去赏花 #春暖花...</td>\n",
       "      <td>{'食品类别': '未知', '是否为零售食品': '否', '文本主题': '旅游推荐',...</td>\n",
       "      <td>旅游推荐</td>\n",
       "      <td>[{'其他': ['推荐', '儿童']}, {'广告与推广': ['福利', '推荐', ...</td>\n",
       "    </tr>\n",
       "    <tr>\n",
       "      <th>...</th>\n",
       "      <td>...</td>\n",
       "      <td>...</td>\n",
       "      <td>...</td>\n",
       "      <td>...</td>\n",
       "      <td>...</td>\n",
       "    </tr>\n",
       "    <tr>\n",
       "      <th>2995</th>\n",
       "      <td>594ac51b1657f4738586e8ae24552b52|2be16c8d4707b...</td>\n",
       "      <td>#好吃又便宜的网红零食推荐 发现一款超好吃的小零食，就是这款九块九三十包的酥牛排，还是盐津铺...</td>\n",
       "      <td>{'食品类别': '肉脯卤味', '是否为零售食品': '是', '文本主题': '零食推荐...</td>\n",
       "      <td>零食推荐</td>\n",
       "      <td>[{'体重管理': ['零食']}, {'健康与养生': ['零食']}, {'健康与饮食'...</td>\n",
       "    </tr>\n",
       "    <tr>\n",
       "      <th>2996</th>\n",
       "      <td>357b96bad7f1fa478a787ae85785d175|6298eda597a46...</td>\n",
       "      <td>救命这个燕麦酥真的不要太好吃！\\n这款燕麦巧克力酥不含反式脂肪，外皮包裹巧克力\\n再配上饱满...</td>\n",
       "      <td>{'食品类别': '未知', '是否为零售食品': '是', '文本主题': '零食推荐',...</td>\n",
       "      <td>零食推荐</td>\n",
       "      <td>[{'体重管理': ['零食']}, {'健康与养生': ['零食']}, {'健康与饮食'...</td>\n",
       "    </tr>\n",
       "    <tr>\n",
       "      <th>2997</th>\n",
       "      <td>956e86edcfd1f8201401df05c29181f3|846599ba7abdd...</td>\n",
       "      <td>尊敬的顾客朋友们\\n🔔加一加水果零食明天4.18举行年会\\n🙋🏻‍♀️全体员工参加⚠️闭店一...</td>\n",
       "      <td>{'食品类别': '未知', '是否为零售食品': '是', '文本主题': '商业通知',...</td>\n",
       "      <td>商业通知</td>\n",
       "      <td>[{'体重管理': ['零食']}, {'健康与养生': ['零食']}, {'其他': [...</td>\n",
       "    </tr>\n",
       "    <tr>\n",
       "      <th>2998</th>\n",
       "      <td>7a6c58420d0aab1b5fc6f51a583503fe|9451fadf499ed...</td>\n",
       "      <td>#女大学生 #淄博烧烤 去淄博喽，八大局去了，紫米饼没吃，炒锅饼没吃，牛奶棒没吃，小蛋糕没吃...</td>\n",
       "      <td>{'食品类别': '未知', '是否为零售食品': '否', '文本主题': '旅行体验',...</td>\n",
       "      <td>旅行体验</td>\n",
       "      <td>[{'其他': ['朋友', '好吃', '女大学生']}, {'学习与教育': ['大学生...</td>\n",
       "    </tr>\n",
       "    <tr>\n",
       "      <th>2999</th>\n",
       "      <td>074f6dadd9c367d16d5b9630fb762e99|22c45af3df79d...</td>\n",
       "      <td>今年的第一颗荔枝王。#抖音伙伴计划 哇塞，怎么会有比我手掌还大的荔枝呀。真是超大超满足啊，果...</td>\n",
       "      <td>{'食品类别': '未知', '是否为零售食品': '否', '文本主题': '季节性食品体...</td>\n",
       "      <td>季节性食品体验</td>\n",
       "      <td>[{'体重管理': ['零食']}, {'健康与养生': ['零食']}, {'健康与饮食'...</td>\n",
       "    </tr>\n",
       "  </tbody>\n",
       "</table>\n",
       "<p>3000 rows × 5 columns</p>\n",
       "</div>"
      ],
      "text/plain": [
       "                                                     id  \\\n",
       "0     e04592c0da33650d9c837464dca6c706|b9393c69e2e6d...   \n",
       "1     18336dc645f26e3c3944e8c47c1c9831|d035d1c7e67d6...   \n",
       "2     b9240d65115b682962187bac31a5a14d|e64571aeb3fbf...   \n",
       "3     a0e6ebe573ea14303727123a5abbef3e|de754b5d37397...   \n",
       "4     d3fc3728a8c3e13ae5988aa15e4bb0fd|320b8f65d7782...   \n",
       "...                                                 ...   \n",
       "2995  594ac51b1657f4738586e8ae24552b52|2be16c8d4707b...   \n",
       "2996  357b96bad7f1fa478a787ae85785d175|6298eda597a46...   \n",
       "2997  956e86edcfd1f8201401df05c29181f3|846599ba7abdd...   \n",
       "2998  7a6c58420d0aab1b5fc6f51a583503fe|9451fadf499ed...   \n",
       "2999  074f6dadd9c367d16d5b9630fb762e99|22c45af3df79d...   \n",
       "\n",
       "                                                content  \\\n",
       "0     一拖二的周六，一早起床，勿勿忙忙准备好小娃需要看病的资料，再准备我需要摆摊的工具，大娃补课催...   \n",
       "1     津铺子的这个0卡果冻回购很多次了，一共四种口味：白桃、青提、荔枝和芒果。四个口味都还不错，口...   \n",
       "2     话梅柠檬茶！建议女孩子都把奶茶换成它！ 全网安利的咸柠茶！我能喝一整个夏天！真的好喝到原地转...   \n",
       "3     随手买的香辣鱼尾也太好吃了吧！鱼肉很有嚼劲，麻麻辣辣的也太过瘾了，平时追剧或者嘴馋了来一包，...   \n",
       "4     #踏春赏花最美的景点推荐 #感受大自然的气息和美景 #旅行推荐官 #抖音带你去赏花 #春暖花...   \n",
       "...                                                 ...   \n",
       "2995  #好吃又便宜的网红零食推荐 发现一款超好吃的小零食，就是这款九块九三十包的酥牛排，还是盐津铺...   \n",
       "2996  救命这个燕麦酥真的不要太好吃！\\n这款燕麦巧克力酥不含反式脂肪，外皮包裹巧克力\\n再配上饱满...   \n",
       "2997  尊敬的顾客朋友们\\n🔔加一加水果零食明天4.18举行年会\\n🙋🏻‍♀️全体员工参加⚠️闭店一...   \n",
       "2998  #女大学生 #淄博烧烤 去淄博喽，八大局去了，紫米饼没吃，炒锅饼没吃，牛奶棒没吃，小蛋糕没吃...   \n",
       "2999  今年的第一颗荔枝王。#抖音伙伴计划 哇塞，怎么会有比我手掌还大的荔枝呀。真是超大超满足啊，果...   \n",
       "\n",
       "                                                 output text_topic  \\\n",
       "0     {'食品类别': '未知', '是否为零售食品': '否', '文本主题': '日常生活挑战...     日常生活挑战   \n",
       "1     {'食品类别': '蜜饯果干', '是否为零售食品': '是', '文本主题': '产品推荐...       产品推荐   \n",
       "2     {'食品类别': '未知', '是否为零售食品': '是', '文本主题': '饮品推荐',...       饮品推荐   \n",
       "3     {'食品类别': '肉脯卤味', '是否为零售食品': '是', '文本主题': '食品体验...       食品体验   \n",
       "4     {'食品类别': '未知', '是否为零售食品': '否', '文本主题': '旅游推荐',...       旅游推荐   \n",
       "...                                                 ...        ...   \n",
       "2995  {'食品类别': '肉脯卤味', '是否为零售食品': '是', '文本主题': '零食推荐...       零食推荐   \n",
       "2996  {'食品类别': '未知', '是否为零售食品': '是', '文本主题': '零食推荐',...       零食推荐   \n",
       "2997  {'食品类别': '未知', '是否为零售食品': '是', '文本主题': '商业通知',...       商业通知   \n",
       "2998  {'食品类别': '未知', '是否为零售食品': '否', '文本主题': '旅行体验',...       旅行体验   \n",
       "2999  {'食品类别': '未知', '是否为零售食品': '否', '文本主题': '季节性食品体...    季节性食品体验   \n",
       "\n",
       "                                                   文本主题  \n",
       "0     [{'其他': ['早起', '一拖二', '生活', '生活的人', '摆摊']}, {'...  \n",
       "1     [{'体重管理': ['零食']}, {'健康与养生': ['零食']}, {'其他': [...  \n",
       "2     [{'体重管理': ['奶茶']}, {'健康与饮食': ['夏天', '咸柠茶', '柠檬...  \n",
       "3     [{'体重管理': ['零食']}, {'健康与养生': ['零食']}, {'其他': [...  \n",
       "4     [{'其他': ['推荐', '儿童']}, {'广告与推广': ['福利', '推荐', ...  \n",
       "...                                                 ...  \n",
       "2995  [{'体重管理': ['零食']}, {'健康与养生': ['零食']}, {'健康与饮食'...  \n",
       "2996  [{'体重管理': ['零食']}, {'健康与养生': ['零食']}, {'健康与饮食'...  \n",
       "2997  [{'体重管理': ['零食']}, {'健康与养生': ['零食']}, {'其他': [...  \n",
       "2998  [{'其他': ['朋友', '好吃', '女大学生']}, {'学习与教育': ['大学生...  \n",
       "2999  [{'体重管理': ['零食']}, {'健康与养生': ['零食']}, {'健康与饮食'...  \n",
       "\n",
       "[3000 rows x 5 columns]"
      ]
     },
     "execution_count": 227,
     "metadata": {},
     "output_type": "execute_result"
    }
   ],
   "source": [
    "tagged_data = tag_data(df_dictionary, data, tag_value_col='class_name')\n",
    "tagged_data\n"
   ]
  },
  {
   "cell_type": "code",
   "execution_count": 228,
   "metadata": {},
   "outputs": [],
   "source": [
    "tagged_data['文本主题Max'] = \\\n",
    "    tagged_data['文本主题'].apply(\n",
    "        lambda x: [list(i.keys())[0] for i in x][np.array([len(i[list(i.keys())[0]]) for i in x]).argmax()] if len(x) else x\n",
    "    )\n"
   ]
  },
  {
   "cell_type": "code",
   "execution_count": 229,
   "metadata": {},
   "outputs": [],
   "source": [
    "tagged_data.to_csv('data/3000dictionary_on_3000.csv', index=False)"
   ]
  },
  {
   "cell_type": "code",
   "execution_count": null,
   "metadata": {},
   "outputs": [],
   "source": []
  },
  {
   "cell_type": "code",
   "execution_count": null,
   "metadata": {},
   "outputs": [],
   "source": []
  },
  {
   "cell_type": "code",
   "execution_count": null,
   "metadata": {},
   "outputs": [],
   "source": []
  },
  {
   "cell_type": "code",
   "execution_count": null,
   "metadata": {},
   "outputs": [],
   "source": []
  },
  {
   "cell_type": "code",
   "execution_count": null,
   "metadata": {},
   "outputs": [],
   "source": []
  },
  {
   "cell_type": "code",
   "execution_count": null,
   "metadata": {},
   "outputs": [],
   "source": []
  },
  {
   "cell_type": "code",
   "execution_count": null,
   "metadata": {},
   "outputs": [],
   "source": []
  },
  {
   "cell_type": "code",
   "execution_count": null,
   "metadata": {},
   "outputs": [],
   "source": []
  },
  {
   "cell_type": "code",
   "execution_count": null,
   "metadata": {},
   "outputs": [],
   "source": []
  },
  {
   "cell_type": "code",
   "execution_count": null,
   "metadata": {},
   "outputs": [],
   "source": []
  },
  {
   "cell_type": "code",
   "execution_count": null,
   "metadata": {},
   "outputs": [],
   "source": []
  },
  {
   "cell_type": "code",
   "execution_count": null,
   "metadata": {},
   "outputs": [],
   "source": []
  },
  {
   "cell_type": "code",
   "execution_count": 197,
   "metadata": {},
   "outputs": [
    {
     "data": {
      "text/plain": [
       "'体重管理'"
      ]
     },
     "execution_count": 197,
     "metadata": {},
     "output_type": "execute_result"
    }
   ],
   "source": [
    "list(x[0].keys())[0]"
   ]
  },
  {
   "cell_type": "code",
   "execution_count": null,
   "metadata": {},
   "outputs": [],
   "source": []
  },
  {
   "cell_type": "code",
   "execution_count": null,
   "metadata": {},
   "outputs": [],
   "source": []
  },
  {
   "cell_type": "code",
   "execution_count": null,
   "metadata": {},
   "outputs": [],
   "source": []
  },
  {
   "cell_type": "code",
   "execution_count": null,
   "metadata": {},
   "outputs": [],
   "source": []
  },
  {
   "cell_type": "code",
   "execution_count": null,
   "metadata": {},
   "outputs": [],
   "source": []
  },
  {
   "cell_type": "code",
   "execution_count": null,
   "metadata": {},
   "outputs": [],
   "source": []
  },
  {
   "cell_type": "code",
   "execution_count": null,
   "metadata": {},
   "outputs": [],
   "source": []
  },
  {
   "cell_type": "code",
   "execution_count": null,
   "metadata": {},
   "outputs": [],
   "source": []
  },
  {
   "cell_type": "code",
   "execution_count": null,
   "metadata": {},
   "outputs": [],
   "source": []
  },
  {
   "cell_type": "code",
   "execution_count": null,
   "metadata": {},
   "outputs": [],
   "source": []
  },
  {
   "cell_type": "code",
   "execution_count": null,
   "metadata": {},
   "outputs": [],
   "source": []
  },
  {
   "cell_type": "code",
   "execution_count": null,
   "metadata": {},
   "outputs": [],
   "source": []
  },
  {
   "cell_type": "code",
   "execution_count": null,
   "metadata": {},
   "outputs": [],
   "source": []
  },
  {
   "cell_type": "code",
   "execution_count": null,
   "metadata": {},
   "outputs": [],
   "source": []
  },
  {
   "cell_type": "code",
   "execution_count": null,
   "metadata": {},
   "outputs": [],
   "source": []
  },
  {
   "cell_type": "code",
   "execution_count": null,
   "metadata": {},
   "outputs": [],
   "source": []
  },
  {
   "cell_type": "code",
   "execution_count": null,
   "metadata": {},
   "outputs": [],
   "source": []
  },
  {
   "cell_type": "code",
   "execution_count": null,
   "metadata": {},
   "outputs": [],
   "source": []
  },
  {
   "cell_type": "code",
   "execution_count": null,
   "metadata": {},
   "outputs": [],
   "source": []
  },
  {
   "cell_type": "code",
   "execution_count": null,
   "metadata": {},
   "outputs": [],
   "source": []
  },
  {
   "cell_type": "code",
   "execution_count": null,
   "metadata": {},
   "outputs": [],
   "source": []
  },
  {
   "cell_type": "code",
   "execution_count": null,
   "metadata": {},
   "outputs": [],
   "source": []
  },
  {
   "cell_type": "code",
   "execution_count": null,
   "metadata": {},
   "outputs": [],
   "source": []
  },
  {
   "cell_type": "code",
   "execution_count": null,
   "metadata": {},
   "outputs": [],
   "source": []
  },
  {
   "cell_type": "code",
   "execution_count": null,
   "metadata": {},
   "outputs": [],
   "source": []
  },
  {
   "cell_type": "code",
   "execution_count": null,
   "metadata": {},
   "outputs": [],
   "source": []
  },
  {
   "cell_type": "code",
   "execution_count": null,
   "metadata": {},
   "outputs": [],
   "source": []
  },
  {
   "cell_type": "code",
   "execution_count": null,
   "metadata": {},
   "outputs": [],
   "source": []
  },
  {
   "cell_type": "code",
   "execution_count": 153,
   "metadata": {},
   "outputs": [
    {
     "data": {
      "text/plain": [
       "0       {'体重管理': 1, '健康与养生': 1, '健康与饮食': 1, '其他': 1, '...\n",
       "1       {'体重管理': 1, '旅行': 1, '运动健身': 1, '节日庆祝': 1, '美食...\n",
       "2       {'体重管理': 1, '健康与养生': 1, '健康与饮食': 1, '儿童饮食与健康':...\n",
       "3       {'体重管理': 1, '健康与养生': 1, '运动健身': 1, '节日庆祝': 1, ...\n",
       "4       {'体重管理': 1, '旅行': 1, '运动健身': 1, '节日庆祝': 1, '美食...\n",
       "                              ...                        \n",
       "2995    {'体重管理': 1, '健康与养生': 1, '运动健身': 1, '节日庆祝': 1, ...\n",
       "2996    {'体重管理': 1, '旅行': 1, '运动健身': 1, '节日庆祝': 1, '美食...\n",
       "2997    {'体重管理': 1, '旅行': 1, '运动健身': 1, '节日庆祝': 1, '美食...\n",
       "2998    {'体重管理': 1, '日常记录': 1, '运动健身': 1, '节日庆祝': 1, '...\n",
       "2999    {'体重管理': 1, '旅行': 1, '运动健身': 1, '节日庆祝': 1, '美食...\n",
       "Name: 文本主题, Length: 3000, dtype: object"
      ]
     },
     "execution_count": 153,
     "metadata": {},
     "output_type": "execute_result"
    }
   ],
   "source": [
    "tagged_data['文本主题'].apply(lambda x: pd.Series(x.split(',')).value_counts().to_dict())"
   ]
  },
  {
   "cell_type": "code",
   "execution_count": null,
   "metadata": {},
   "outputs": [],
   "source": []
  },
  {
   "cell_type": "code",
   "execution_count": null,
   "metadata": {},
   "outputs": [],
   "source": []
  },
  {
   "cell_type": "code",
   "execution_count": null,
   "metadata": {},
   "outputs": [],
   "source": []
  },
  {
   "cell_type": "code",
   "execution_count": 115,
   "metadata": {},
   "outputs": [
    {
     "name": "stdout",
     "output_type": "stream",
     "text": [
      "connecting to rm-uf6lfxk83h7onjmwvjo.mysql.rds.aliyuncs.com3306/validation\n"
     ]
    },
    {
     "data": {
      "text/html": [
       "<div>\n",
       "<style scoped>\n",
       "    .dataframe tbody tr th:only-of-type {\n",
       "        vertical-align: middle;\n",
       "    }\n",
       "\n",
       "    .dataframe tbody tr th {\n",
       "        vertical-align: top;\n",
       "    }\n",
       "\n",
       "    .dataframe thead th {\n",
       "        text-align: right;\n",
       "    }\n",
       "</style>\n",
       "<table border=\"1\" class=\"dataframe\">\n",
       "  <thead>\n",
       "    <tr style=\"text-align: right;\">\n",
       "      <th></th>\n",
       "      <th>Tables_in_validation</th>\n",
       "    </tr>\n",
       "  </thead>\n",
       "  <tbody>\n",
       "    <tr>\n",
       "      <th>0</th>\n",
       "      <td>tag_group_text_topic</td>\n",
       "    </tr>\n",
       "    <tr>\n",
       "      <th>1</th>\n",
       "      <td>tag_group_text_topic_validation</td>\n",
       "    </tr>\n",
       "    <tr>\n",
       "      <th>2</th>\n",
       "      <td>tag_kwd_character_type</td>\n",
       "    </tr>\n",
       "    <tr>\n",
       "      <th>3</th>\n",
       "      <td>tag_kwd_emotional_atmosphere</td>\n",
       "    </tr>\n",
       "    <tr>\n",
       "      <th>4</th>\n",
       "      <td>tag_kwd_food_category</td>\n",
       "    </tr>\n",
       "    <tr>\n",
       "      <th>5</th>\n",
       "      <td>tag_kwd_food_usage</td>\n",
       "    </tr>\n",
       "    <tr>\n",
       "      <th>6</th>\n",
       "      <td>tag_kwd_is_retail_food</td>\n",
       "    </tr>\n",
       "    <tr>\n",
       "      <th>7</th>\n",
       "      <td>tag_kwd_macro_occasion</td>\n",
       "    </tr>\n",
       "    <tr>\n",
       "      <th>8</th>\n",
       "      <td>tag_kwd_micro_occasion</td>\n",
       "    </tr>\n",
       "    <tr>\n",
       "      <th>9</th>\n",
       "      <td>tag_kwd_painpoint</td>\n",
       "    </tr>\n",
       "    <tr>\n",
       "      <th>10</th>\n",
       "      <td>tag_kwd_text_topic</td>\n",
       "    </tr>\n",
       "    <tr>\n",
       "      <th>11</th>\n",
       "      <td>tag_kwd_text_type</td>\n",
       "    </tr>\n",
       "    <tr>\n",
       "      <th>12</th>\n",
       "      <td>tag_kwd_time</td>\n",
       "    </tr>\n",
       "    <tr>\n",
       "      <th>13</th>\n",
       "      <td>tag_kwd_topic_relevance</td>\n",
       "    </tr>\n",
       "    <tr>\n",
       "      <th>14</th>\n",
       "      <td>tag_kwd_when</td>\n",
       "    </tr>\n",
       "    <tr>\n",
       "      <th>15</th>\n",
       "      <td>tag_kwd_where</td>\n",
       "    </tr>\n",
       "    <tr>\n",
       "      <th>16</th>\n",
       "      <td>tagged_content</td>\n",
       "    </tr>\n",
       "  </tbody>\n",
       "</table>\n",
       "</div>"
      ],
      "text/plain": [
       "               Tables_in_validation\n",
       "0              tag_group_text_topic\n",
       "1   tag_group_text_topic_validation\n",
       "2            tag_kwd_character_type\n",
       "3      tag_kwd_emotional_atmosphere\n",
       "4             tag_kwd_food_category\n",
       "5                tag_kwd_food_usage\n",
       "6            tag_kwd_is_retail_food\n",
       "7            tag_kwd_macro_occasion\n",
       "8            tag_kwd_micro_occasion\n",
       "9                 tag_kwd_painpoint\n",
       "10               tag_kwd_text_topic\n",
       "11                tag_kwd_text_type\n",
       "12                     tag_kwd_time\n",
       "13          tag_kwd_topic_relevance\n",
       "14                     tag_kwd_when\n",
       "15                    tag_kwd_where\n",
       "16                   tagged_content"
      ]
     },
     "execution_count": 115,
     "metadata": {},
     "output_type": "execute_result"
    }
   ],
   "source": [
    "pd.read_sql('show tables', get_connection(database= 'validation'))"
   ]
  },
  {
   "cell_type": "code",
   "execution_count": 125,
   "metadata": {},
   "outputs": [],
   "source": [
    "from io import StringIO\n",
    "import json\n",
    "\n",
    "data = pd.read_csv(StringIO(text), sep= '\\t')\n",
    "\n",
    "data['output'] = data['output'].apply(lambda x: json.loads(x.replace(\"'\", '\"')))"
   ]
  },
  {
   "cell_type": "code",
   "execution_count": 127,
   "metadata": {},
   "outputs": [],
   "source": [
    "data['text_topic'] = data['output'].apply(lambda x: x['文本主题'])"
   ]
  },
  {
   "cell_type": "code",
   "execution_count": 132,
   "metadata": {},
   "outputs": [],
   "source": [
    "data.to_csv('data/validation_3000.csv', index=False)"
   ]
  },
  {
   "cell_type": "code",
   "execution_count": null,
   "metadata": {},
   "outputs": [],
   "source": []
  },
  {
   "cell_type": "code",
   "execution_count": 131,
   "metadata": {},
   "outputs": [
    {
     "data": {
      "text/html": [
       "<div>\n",
       "<style scoped>\n",
       "    .dataframe tbody tr th:only-of-type {\n",
       "        vertical-align: middle;\n",
       "    }\n",
       "\n",
       "    .dataframe tbody tr th {\n",
       "        vertical-align: top;\n",
       "    }\n",
       "\n",
       "    .dataframe thead th {\n",
       "        text-align: right;\n",
       "    }\n",
       "</style>\n",
       "<table border=\"1\" class=\"dataframe\">\n",
       "  <thead>\n",
       "    <tr style=\"text-align: right;\">\n",
       "      <th></th>\n",
       "      <th>id</th>\n",
       "      <th>content</th>\n",
       "      <th>output</th>\n",
       "      <th>text_topic</th>\n",
       "    </tr>\n",
       "  </thead>\n",
       "  <tbody>\n",
       "    <tr>\n",
       "      <th>0</th>\n",
       "      <td>e04592c0da33650d9c837464dca6c706|b9393c69e2e6d...</td>\n",
       "      <td>一拖二的周六，一早起床，勿勿忙忙准备好小娃需要看病的资料，再准备我需要摆摊的工具，大娃补课催...</td>\n",
       "      <td>{'食品类别': '未知', '是否为零售食品': '否', '文本主题': '日常生活挑战...</td>\n",
       "      <td>日常生活挑战</td>\n",
       "    </tr>\n",
       "    <tr>\n",
       "      <th>1</th>\n",
       "      <td>18336dc645f26e3c3944e8c47c1c9831|d035d1c7e67d6...</td>\n",
       "      <td>津铺子的这个0卡果冻回购很多次了，一共四种口味：白桃、青提、荔枝和芒果。四个口味都还不错，口...</td>\n",
       "      <td>{'食品类别': '蜜饯果干', '是否为零售食品': '是', '文本主题': '产品推荐...</td>\n",
       "      <td>产品推荐</td>\n",
       "    </tr>\n",
       "    <tr>\n",
       "      <th>2</th>\n",
       "      <td>b9240d65115b682962187bac31a5a14d|e64571aeb3fbf...</td>\n",
       "      <td>话梅柠檬茶！建议女孩子都把奶茶换成它！ 全网安利的咸柠茶！我能喝一整个夏天！真的好喝到原地转...</td>\n",
       "      <td>{'食品类别': '未知', '是否为零售食品': '是', '文本主题': '饮品推荐',...</td>\n",
       "      <td>饮品推荐</td>\n",
       "    </tr>\n",
       "    <tr>\n",
       "      <th>3</th>\n",
       "      <td>a0e6ebe573ea14303727123a5abbef3e|de754b5d37397...</td>\n",
       "      <td>随手买的香辣鱼尾也太好吃了吧！鱼肉很有嚼劲，麻麻辣辣的也太过瘾了，平时追剧或者嘴馋了来一包，...</td>\n",
       "      <td>{'食品类别': '肉脯卤味', '是否为零售食品': '是', '文本主题': '食品体验...</td>\n",
       "      <td>食品体验</td>\n",
       "    </tr>\n",
       "    <tr>\n",
       "      <th>4</th>\n",
       "      <td>d3fc3728a8c3e13ae5988aa15e4bb0fd|320b8f65d7782...</td>\n",
       "      <td>#踏春赏花最美的景点推荐 #感受大自然的气息和美景 #旅行推荐官 #抖音带你去赏花 #春暖花...</td>\n",
       "      <td>{'食品类别': '未知', '是否为零售食品': '否', '文本主题': '旅游推荐',...</td>\n",
       "      <td>旅游推荐</td>\n",
       "    </tr>\n",
       "    <tr>\n",
       "      <th>...</th>\n",
       "      <td>...</td>\n",
       "      <td>...</td>\n",
       "      <td>...</td>\n",
       "      <td>...</td>\n",
       "    </tr>\n",
       "    <tr>\n",
       "      <th>2995</th>\n",
       "      <td>594ac51b1657f4738586e8ae24552b52|2be16c8d4707b...</td>\n",
       "      <td>#好吃又便宜的网红零食推荐 发现一款超好吃的小零食，就是这款九块九三十包的酥牛排，还是盐津铺...</td>\n",
       "      <td>{'食品类别': '肉脯卤味', '是否为零售食品': '是', '文本主题': '零食推荐...</td>\n",
       "      <td>零食推荐</td>\n",
       "    </tr>\n",
       "    <tr>\n",
       "      <th>2996</th>\n",
       "      <td>357b96bad7f1fa478a787ae85785d175|6298eda597a46...</td>\n",
       "      <td>救命这个燕麦酥真的不要太好吃！\\n这款燕麦巧克力酥不含反式脂肪，外皮包裹巧克力\\n再配上饱满...</td>\n",
       "      <td>{'食品类别': '未知', '是否为零售食品': '是', '文本主题': '零食推荐',...</td>\n",
       "      <td>零食推荐</td>\n",
       "    </tr>\n",
       "    <tr>\n",
       "      <th>2997</th>\n",
       "      <td>956e86edcfd1f8201401df05c29181f3|846599ba7abdd...</td>\n",
       "      <td>尊敬的顾客朋友们\\n🔔加一加水果零食明天4.18举行年会\\n🙋🏻‍♀️全体员工参加⚠️闭店一...</td>\n",
       "      <td>{'食品类别': '未知', '是否为零售食品': '是', '文本主题': '商业通知',...</td>\n",
       "      <td>商业通知</td>\n",
       "    </tr>\n",
       "    <tr>\n",
       "      <th>2998</th>\n",
       "      <td>7a6c58420d0aab1b5fc6f51a583503fe|9451fadf499ed...</td>\n",
       "      <td>#女大学生 #淄博烧烤 去淄博喽，八大局去了，紫米饼没吃，炒锅饼没吃，牛奶棒没吃，小蛋糕没吃...</td>\n",
       "      <td>{'食品类别': '未知', '是否为零售食品': '否', '文本主题': '旅行体验',...</td>\n",
       "      <td>旅行体验</td>\n",
       "    </tr>\n",
       "    <tr>\n",
       "      <th>2999</th>\n",
       "      <td>074f6dadd9c367d16d5b9630fb762e99|22c45af3df79d...</td>\n",
       "      <td>今年的第一颗荔枝王。#抖音伙伴计划 哇塞，怎么会有比我手掌还大的荔枝呀。真是超大超满足啊，果...</td>\n",
       "      <td>{'食品类别': '未知', '是否为零售食品': '否', '文本主题': '季节性食品体...</td>\n",
       "      <td>季节性食品体验</td>\n",
       "    </tr>\n",
       "  </tbody>\n",
       "</table>\n",
       "<p>3000 rows × 4 columns</p>\n",
       "</div>"
      ],
      "text/plain": [
       "                                                     id  \\\n",
       "0     e04592c0da33650d9c837464dca6c706|b9393c69e2e6d...   \n",
       "1     18336dc645f26e3c3944e8c47c1c9831|d035d1c7e67d6...   \n",
       "2     b9240d65115b682962187bac31a5a14d|e64571aeb3fbf...   \n",
       "3     a0e6ebe573ea14303727123a5abbef3e|de754b5d37397...   \n",
       "4     d3fc3728a8c3e13ae5988aa15e4bb0fd|320b8f65d7782...   \n",
       "...                                                 ...   \n",
       "2995  594ac51b1657f4738586e8ae24552b52|2be16c8d4707b...   \n",
       "2996  357b96bad7f1fa478a787ae85785d175|6298eda597a46...   \n",
       "2997  956e86edcfd1f8201401df05c29181f3|846599ba7abdd...   \n",
       "2998  7a6c58420d0aab1b5fc6f51a583503fe|9451fadf499ed...   \n",
       "2999  074f6dadd9c367d16d5b9630fb762e99|22c45af3df79d...   \n",
       "\n",
       "                                                content  \\\n",
       "0     一拖二的周六，一早起床，勿勿忙忙准备好小娃需要看病的资料，再准备我需要摆摊的工具，大娃补课催...   \n",
       "1     津铺子的这个0卡果冻回购很多次了，一共四种口味：白桃、青提、荔枝和芒果。四个口味都还不错，口...   \n",
       "2     话梅柠檬茶！建议女孩子都把奶茶换成它！ 全网安利的咸柠茶！我能喝一整个夏天！真的好喝到原地转...   \n",
       "3     随手买的香辣鱼尾也太好吃了吧！鱼肉很有嚼劲，麻麻辣辣的也太过瘾了，平时追剧或者嘴馋了来一包，...   \n",
       "4     #踏春赏花最美的景点推荐 #感受大自然的气息和美景 #旅行推荐官 #抖音带你去赏花 #春暖花...   \n",
       "...                                                 ...   \n",
       "2995  #好吃又便宜的网红零食推荐 发现一款超好吃的小零食，就是这款九块九三十包的酥牛排，还是盐津铺...   \n",
       "2996  救命这个燕麦酥真的不要太好吃！\\n这款燕麦巧克力酥不含反式脂肪，外皮包裹巧克力\\n再配上饱满...   \n",
       "2997  尊敬的顾客朋友们\\n🔔加一加水果零食明天4.18举行年会\\n🙋🏻‍♀️全体员工参加⚠️闭店一...   \n",
       "2998  #女大学生 #淄博烧烤 去淄博喽，八大局去了，紫米饼没吃，炒锅饼没吃，牛奶棒没吃，小蛋糕没吃...   \n",
       "2999  今年的第一颗荔枝王。#抖音伙伴计划 哇塞，怎么会有比我手掌还大的荔枝呀。真是超大超满足啊，果...   \n",
       "\n",
       "                                                 output text_topic  \n",
       "0     {'食品类别': '未知', '是否为零售食品': '否', '文本主题': '日常生活挑战...     日常生活挑战  \n",
       "1     {'食品类别': '蜜饯果干', '是否为零售食品': '是', '文本主题': '产品推荐...       产品推荐  \n",
       "2     {'食品类别': '未知', '是否为零售食品': '是', '文本主题': '饮品推荐',...       饮品推荐  \n",
       "3     {'食品类别': '肉脯卤味', '是否为零售食品': '是', '文本主题': '食品体验...       食品体验  \n",
       "4     {'食品类别': '未知', '是否为零售食品': '否', '文本主题': '旅游推荐',...       旅游推荐  \n",
       "...                                                 ...        ...  \n",
       "2995  {'食品类别': '肉脯卤味', '是否为零售食品': '是', '文本主题': '零食推荐...       零食推荐  \n",
       "2996  {'食品类别': '未知', '是否为零售食品': '是', '文本主题': '零食推荐',...       零食推荐  \n",
       "2997  {'食品类别': '未知', '是否为零售食品': '是', '文本主题': '商业通知',...       商业通知  \n",
       "2998  {'食品类别': '未知', '是否为零售食品': '否', '文本主题': '旅行体验',...       旅行体验  \n",
       "2999  {'食品类别': '未知', '是否为零售食品': '否', '文本主题': '季节性食品体...    季节性食品体验  \n",
       "\n",
       "[3000 rows x 4 columns]"
      ]
     },
     "execution_count": 131,
     "metadata": {},
     "output_type": "execute_result"
    }
   ],
   "source": [
    "data"
   ]
  },
  {
   "cell_type": "code",
   "execution_count": null,
   "metadata": {},
   "outputs": [],
   "source": []
  },
  {
   "cell_type": "code",
   "execution_count": null,
   "metadata": {},
   "outputs": [],
   "source": []
  },
  {
   "cell_type": "code",
   "execution_count": null,
   "metadata": {},
   "outputs": [],
   "source": []
  },
  {
   "cell_type": "code",
   "execution_count": null,
   "metadata": {},
   "outputs": [],
   "source": []
  },
  {
   "cell_type": "code",
   "execution_count": null,
   "metadata": {},
   "outputs": [],
   "source": []
  },
  {
   "cell_type": "code",
   "execution_count": null,
   "metadata": {},
   "outputs": [],
   "source": []
  },
  {
   "cell_type": "code",
   "execution_count": null,
   "metadata": {},
   "outputs": [],
   "source": []
  },
  {
   "cell_type": "code",
   "execution_count": null,
   "metadata": {},
   "outputs": [],
   "source": []
  },
  {
   "cell_type": "code",
   "execution_count": null,
   "metadata": {},
   "outputs": [],
   "source": []
  },
  {
   "cell_type": "code",
   "execution_count": null,
   "metadata": {},
   "outputs": [],
   "source": []
  },
  {
   "cell_type": "code",
   "execution_count": 86,
   "metadata": {},
   "outputs": [
    {
     "name": "stdout",
     "output_type": "stream",
     "text": [
      "connecting to rm-uf6lfxk83h7onjmwvjo.mysql.rds.aliyuncs.com3306/\n"
     ]
    },
    {
     "name": "stderr",
     "output_type": "stream",
     "text": [
      "  1%|          | 1/100 [00:00<00:04, 21.46it/s]\n",
      "  0%|          | 0/28 [00:00<?, ?it/s]\n"
     ]
    },
    {
     "ename": "KeyError",
     "evalue": "'kw_ls'",
     "output_type": "error",
     "traceback": [
      "\u001b[0;31m---------------------------------------------------------------------------\u001b[0m",
      "\u001b[0;31mKeyError\u001b[0m                                  Traceback (most recent call last)",
      "File \u001b[0;32m~/Desktop/Artefact/Pepcico/social-listening-toolkit/.venv/lib/python3.10/site-packages/pandas/core/indexes/base.py:3805\u001b[0m, in \u001b[0;36mIndex.get_loc\u001b[0;34m(self, key)\u001b[0m\n\u001b[1;32m   3804\u001b[0m \u001b[38;5;28;01mtry\u001b[39;00m:\n\u001b[0;32m-> 3805\u001b[0m     \u001b[38;5;28;01mreturn\u001b[39;00m \u001b[38;5;28;43mself\u001b[39;49m\u001b[38;5;241;43m.\u001b[39;49m\u001b[43m_engine\u001b[49m\u001b[38;5;241;43m.\u001b[39;49m\u001b[43mget_loc\u001b[49m\u001b[43m(\u001b[49m\u001b[43mcasted_key\u001b[49m\u001b[43m)\u001b[49m\n\u001b[1;32m   3806\u001b[0m \u001b[38;5;28;01mexcept\u001b[39;00m \u001b[38;5;167;01mKeyError\u001b[39;00m \u001b[38;5;28;01mas\u001b[39;00m err:\n",
      "File \u001b[0;32mindex.pyx:167\u001b[0m, in \u001b[0;36mpandas._libs.index.IndexEngine.get_loc\u001b[0;34m()\u001b[0m\n",
      "File \u001b[0;32mindex.pyx:196\u001b[0m, in \u001b[0;36mpandas._libs.index.IndexEngine.get_loc\u001b[0;34m()\u001b[0m\n",
      "File \u001b[0;32mpandas/_libs/hashtable_class_helper.pxi:7081\u001b[0m, in \u001b[0;36mpandas._libs.hashtable.PyObjectHashTable.get_item\u001b[0;34m()\u001b[0m\n",
      "File \u001b[0;32mpandas/_libs/hashtable_class_helper.pxi:7089\u001b[0m, in \u001b[0;36mpandas._libs.hashtable.PyObjectHashTable.get_item\u001b[0;34m()\u001b[0m\n",
      "\u001b[0;31mKeyError\u001b[0m: 'kw_ls'",
      "\nThe above exception was the direct cause of the following exception:\n",
      "\u001b[0;31mKeyError\u001b[0m                                  Traceback (most recent call last)",
      "Cell \u001b[0;32mIn[86], line 7\u001b[0m\n\u001b[1;32m      5\u001b[0m n\n\u001b[1;32m      6\u001b[0m \u001b[38;5;28;01mfor\u001b[39;00m data \u001b[38;5;129;01min\u001b[39;00m tqdm(pd\u001b[38;5;241m.\u001b[39mread_sql(data_sql, con \u001b[38;5;241m=\u001b[39m con, chunksize \u001b[38;5;241m=\u001b[39m chunksize), total \u001b[38;5;241m=\u001b[39m step):\n\u001b[0;32m----> 7\u001b[0m     data \u001b[38;5;241m=\u001b[39m \u001b[43mtag_data\u001b[49m\u001b[43m(\u001b[49m\u001b[43mdf_dictionary\u001b[49m\u001b[43m,\u001b[49m\u001b[43m \u001b[49m\u001b[43mdata\u001b[49m\u001b[43m)\u001b[49m\n\u001b[1;32m      8\u001b[0m     data[[\u001b[38;5;124m'\u001b[39m\u001b[38;5;124mid\u001b[39m\u001b[38;5;124m'\u001b[39m, \u001b[38;5;124m'\u001b[39m\u001b[38;5;124mds\u001b[39m\u001b[38;5;124m'\u001b[39m, \u001b[38;5;241m*\u001b[39mdf_dictionary[\u001b[38;5;124m'\u001b[39m\u001b[38;5;124mtag_category\u001b[39m\u001b[38;5;124m'\u001b[39m]\u001b[38;5;241m.\u001b[39munique()\u001b[38;5;241m.\u001b[39mtolist() ]]\u001b[38;5;241m.\u001b[39mto_csv(\u001b[38;5;124m'\u001b[39m\u001b[38;5;124mdata/tagged_validation.csv\u001b[39m\u001b[38;5;124m'\u001b[39m, mode \u001b[38;5;241m=\u001b[39m \u001b[38;5;124m'\u001b[39m\u001b[38;5;124ma\u001b[39m\u001b[38;5;124m'\u001b[39m, index\u001b[38;5;241m=\u001b[39m\u001b[38;5;28;01mFalse\u001b[39;00m)\n",
      "Cell \u001b[0;32mIn[72], line 34\u001b[0m, in \u001b[0;36mtag_data\u001b[0;34m(df_dictionary, data)\u001b[0m\n\u001b[1;32m     32\u001b[0m data \u001b[38;5;241m=\u001b[39m data\u001b[38;5;241m.\u001b[39mcopy()\n\u001b[1;32m     33\u001b[0m categories \u001b[38;5;241m=\u001b[39m df_dictionary[\u001b[38;5;124m'\u001b[39m\u001b[38;5;124mtag_category\u001b[39m\u001b[38;5;124m'\u001b[39m]\u001b[38;5;241m.\u001b[39munique()\u001b[38;5;241m.\u001b[39mtolist()\n\u001b[0;32m---> 34\u001b[0m data[categories] \u001b[38;5;241m=\u001b[39m \u001b[43mdata\u001b[49m\u001b[38;5;241;43m.\u001b[39;49m\u001b[43mprogress_apply\u001b[49m\u001b[43m(\u001b[49m\u001b[43mtag_data_multi_category\u001b[49m\u001b[43m,\u001b[49m\u001b[43m \u001b[49m\u001b[43maxis\u001b[49m\u001b[43m \u001b[49m\u001b[38;5;241;43m=\u001b[39;49m\u001b[43m \u001b[49m\u001b[38;5;241;43m1\u001b[39;49m\u001b[43m,\u001b[49m\u001b[43m \u001b[49m\u001b[43mresult_type\u001b[49m\u001b[43m \u001b[49m\u001b[38;5;241;43m=\u001b[39;49m\u001b[38;5;124;43m'\u001b[39;49m\u001b[38;5;124;43mexpand\u001b[39;49m\u001b[38;5;124;43m'\u001b[39;49m\u001b[43m,\u001b[49m\u001b[43mdf_dictionary\u001b[49m\u001b[43m \u001b[49m\u001b[38;5;241;43m=\u001b[39;49m\u001b[43m \u001b[49m\u001b[43mdf_dictionary\u001b[49m\u001b[43m,\u001b[49m\u001b[43m \u001b[49m\u001b[43mcategories\u001b[49m\u001b[38;5;241;43m=\u001b[39;49m\u001b[43m \u001b[49m\u001b[43mcategories\u001b[49m\u001b[43m)\u001b[49m\n\u001b[1;32m     35\u001b[0m \u001b[38;5;28;01mreturn\u001b[39;00m data\n",
      "File \u001b[0;32m~/Desktop/Artefact/Pepcico/social-listening-toolkit/.venv/lib/python3.10/site-packages/tqdm/std.py:917\u001b[0m, in \u001b[0;36mtqdm.pandas.<locals>.inner_generator.<locals>.inner\u001b[0;34m(df, func, *args, **kwargs)\u001b[0m\n\u001b[1;32m    914\u001b[0m \u001b[38;5;66;03m# Apply the provided function (in **kwargs)\u001b[39;00m\n\u001b[1;32m    915\u001b[0m \u001b[38;5;66;03m# on the df using our wrapper (which provides bar updating)\u001b[39;00m\n\u001b[1;32m    916\u001b[0m \u001b[38;5;28;01mtry\u001b[39;00m:\n\u001b[0;32m--> 917\u001b[0m     \u001b[38;5;28;01mreturn\u001b[39;00m \u001b[38;5;28;43mgetattr\u001b[39;49m\u001b[43m(\u001b[49m\u001b[43mdf\u001b[49m\u001b[43m,\u001b[49m\u001b[43m \u001b[49m\u001b[43mdf_function\u001b[49m\u001b[43m)\u001b[49m\u001b[43m(\u001b[49m\u001b[43mwrapper\u001b[49m\u001b[43m,\u001b[49m\u001b[43m \u001b[49m\u001b[38;5;241;43m*\u001b[39;49m\u001b[38;5;241;43m*\u001b[39;49m\u001b[43mkwargs\u001b[49m\u001b[43m)\u001b[49m\n\u001b[1;32m    918\u001b[0m \u001b[38;5;28;01mfinally\u001b[39;00m:\n\u001b[1;32m    919\u001b[0m     t\u001b[38;5;241m.\u001b[39mclose()\n",
      "File \u001b[0;32m~/Desktop/Artefact/Pepcico/social-listening-toolkit/.venv/lib/python3.10/site-packages/pandas/core/frame.py:10374\u001b[0m, in \u001b[0;36mDataFrame.apply\u001b[0;34m(self, func, axis, raw, result_type, args, by_row, engine, engine_kwargs, **kwargs)\u001b[0m\n\u001b[1;32m  10360\u001b[0m \u001b[38;5;28;01mfrom\u001b[39;00m \u001b[38;5;21;01mpandas\u001b[39;00m\u001b[38;5;21;01m.\u001b[39;00m\u001b[38;5;21;01mcore\u001b[39;00m\u001b[38;5;21;01m.\u001b[39;00m\u001b[38;5;21;01mapply\u001b[39;00m \u001b[38;5;28;01mimport\u001b[39;00m frame_apply\n\u001b[1;32m  10362\u001b[0m op \u001b[38;5;241m=\u001b[39m frame_apply(\n\u001b[1;32m  10363\u001b[0m     \u001b[38;5;28mself\u001b[39m,\n\u001b[1;32m  10364\u001b[0m     func\u001b[38;5;241m=\u001b[39mfunc,\n\u001b[0;32m   (...)\u001b[0m\n\u001b[1;32m  10372\u001b[0m     kwargs\u001b[38;5;241m=\u001b[39mkwargs,\n\u001b[1;32m  10373\u001b[0m )\n\u001b[0;32m> 10374\u001b[0m \u001b[38;5;28;01mreturn\u001b[39;00m \u001b[43mop\u001b[49m\u001b[38;5;241;43m.\u001b[39;49m\u001b[43mapply\u001b[49m\u001b[43m(\u001b[49m\u001b[43m)\u001b[49m\u001b[38;5;241m.\u001b[39m__finalize__(\u001b[38;5;28mself\u001b[39m, method\u001b[38;5;241m=\u001b[39m\u001b[38;5;124m\"\u001b[39m\u001b[38;5;124mapply\u001b[39m\u001b[38;5;124m\"\u001b[39m)\n",
      "File \u001b[0;32m~/Desktop/Artefact/Pepcico/social-listening-toolkit/.venv/lib/python3.10/site-packages/pandas/core/apply.py:916\u001b[0m, in \u001b[0;36mFrameApply.apply\u001b[0;34m(self)\u001b[0m\n\u001b[1;32m    913\u001b[0m \u001b[38;5;28;01melif\u001b[39;00m \u001b[38;5;28mself\u001b[39m\u001b[38;5;241m.\u001b[39mraw:\n\u001b[1;32m    914\u001b[0m     \u001b[38;5;28;01mreturn\u001b[39;00m \u001b[38;5;28mself\u001b[39m\u001b[38;5;241m.\u001b[39mapply_raw(engine\u001b[38;5;241m=\u001b[39m\u001b[38;5;28mself\u001b[39m\u001b[38;5;241m.\u001b[39mengine, engine_kwargs\u001b[38;5;241m=\u001b[39m\u001b[38;5;28mself\u001b[39m\u001b[38;5;241m.\u001b[39mengine_kwargs)\n\u001b[0;32m--> 916\u001b[0m \u001b[38;5;28;01mreturn\u001b[39;00m \u001b[38;5;28;43mself\u001b[39;49m\u001b[38;5;241;43m.\u001b[39;49m\u001b[43mapply_standard\u001b[49m\u001b[43m(\u001b[49m\u001b[43m)\u001b[49m\n",
      "File \u001b[0;32m~/Desktop/Artefact/Pepcico/social-listening-toolkit/.venv/lib/python3.10/site-packages/pandas/core/apply.py:1063\u001b[0m, in \u001b[0;36mFrameApply.apply_standard\u001b[0;34m(self)\u001b[0m\n\u001b[1;32m   1061\u001b[0m \u001b[38;5;28;01mdef\u001b[39;00m \u001b[38;5;21mapply_standard\u001b[39m(\u001b[38;5;28mself\u001b[39m):\n\u001b[1;32m   1062\u001b[0m     \u001b[38;5;28;01mif\u001b[39;00m \u001b[38;5;28mself\u001b[39m\u001b[38;5;241m.\u001b[39mengine \u001b[38;5;241m==\u001b[39m \u001b[38;5;124m\"\u001b[39m\u001b[38;5;124mpython\u001b[39m\u001b[38;5;124m\"\u001b[39m:\n\u001b[0;32m-> 1063\u001b[0m         results, res_index \u001b[38;5;241m=\u001b[39m \u001b[38;5;28;43mself\u001b[39;49m\u001b[38;5;241;43m.\u001b[39;49m\u001b[43mapply_series_generator\u001b[49m\u001b[43m(\u001b[49m\u001b[43m)\u001b[49m\n\u001b[1;32m   1064\u001b[0m     \u001b[38;5;28;01melse\u001b[39;00m:\n\u001b[1;32m   1065\u001b[0m         results, res_index \u001b[38;5;241m=\u001b[39m \u001b[38;5;28mself\u001b[39m\u001b[38;5;241m.\u001b[39mapply_series_numba()\n",
      "File \u001b[0;32m~/Desktop/Artefact/Pepcico/social-listening-toolkit/.venv/lib/python3.10/site-packages/pandas/core/apply.py:1081\u001b[0m, in \u001b[0;36mFrameApply.apply_series_generator\u001b[0;34m(self)\u001b[0m\n\u001b[1;32m   1078\u001b[0m \u001b[38;5;28;01mwith\u001b[39;00m option_context(\u001b[38;5;124m\"\u001b[39m\u001b[38;5;124mmode.chained_assignment\u001b[39m\u001b[38;5;124m\"\u001b[39m, \u001b[38;5;28;01mNone\u001b[39;00m):\n\u001b[1;32m   1079\u001b[0m     \u001b[38;5;28;01mfor\u001b[39;00m i, v \u001b[38;5;129;01min\u001b[39;00m \u001b[38;5;28menumerate\u001b[39m(series_gen):\n\u001b[1;32m   1080\u001b[0m         \u001b[38;5;66;03m# ignore SettingWithCopy here in case the user mutates\u001b[39;00m\n\u001b[0;32m-> 1081\u001b[0m         results[i] \u001b[38;5;241m=\u001b[39m \u001b[38;5;28;43mself\u001b[39;49m\u001b[38;5;241;43m.\u001b[39;49m\u001b[43mfunc\u001b[49m\u001b[43m(\u001b[49m\u001b[43mv\u001b[49m\u001b[43m,\u001b[49m\u001b[43m \u001b[49m\u001b[38;5;241;43m*\u001b[39;49m\u001b[38;5;28;43mself\u001b[39;49m\u001b[38;5;241;43m.\u001b[39;49m\u001b[43margs\u001b[49m\u001b[43m,\u001b[49m\u001b[43m \u001b[49m\u001b[38;5;241;43m*\u001b[39;49m\u001b[38;5;241;43m*\u001b[39;49m\u001b[38;5;28;43mself\u001b[39;49m\u001b[38;5;241;43m.\u001b[39;49m\u001b[43mkwargs\u001b[49m\u001b[43m)\u001b[49m\n\u001b[1;32m   1082\u001b[0m         \u001b[38;5;28;01mif\u001b[39;00m \u001b[38;5;28misinstance\u001b[39m(results[i], ABCSeries):\n\u001b[1;32m   1083\u001b[0m             \u001b[38;5;66;03m# If we have a view on v, we need to make a copy because\u001b[39;00m\n\u001b[1;32m   1084\u001b[0m             \u001b[38;5;66;03m#  series_generator will swap out the underlying data\u001b[39;00m\n\u001b[1;32m   1085\u001b[0m             results[i] \u001b[38;5;241m=\u001b[39m results[i]\u001b[38;5;241m.\u001b[39mcopy(deep\u001b[38;5;241m=\u001b[39m\u001b[38;5;28;01mFalse\u001b[39;00m)\n",
      "File \u001b[0;32m~/Desktop/Artefact/Pepcico/social-listening-toolkit/.venv/lib/python3.10/site-packages/tqdm/std.py:912\u001b[0m, in \u001b[0;36mtqdm.pandas.<locals>.inner_generator.<locals>.inner.<locals>.wrapper\u001b[0;34m(*args, **kwargs)\u001b[0m\n\u001b[1;32m    906\u001b[0m \u001b[38;5;28;01mdef\u001b[39;00m \u001b[38;5;21mwrapper\u001b[39m(\u001b[38;5;241m*\u001b[39margs, \u001b[38;5;241m*\u001b[39m\u001b[38;5;241m*\u001b[39mkwargs):\n\u001b[1;32m    907\u001b[0m     \u001b[38;5;66;03m# update tbar correctly\u001b[39;00m\n\u001b[1;32m    908\u001b[0m     \u001b[38;5;66;03m# it seems `pandas apply` calls `func` twice\u001b[39;00m\n\u001b[1;32m    909\u001b[0m     \u001b[38;5;66;03m# on the first column/row to decide whether it can\u001b[39;00m\n\u001b[1;32m    910\u001b[0m     \u001b[38;5;66;03m# take a fast or slow code path; so stop when t.total==t.n\u001b[39;00m\n\u001b[1;32m    911\u001b[0m     t\u001b[38;5;241m.\u001b[39mupdate(n\u001b[38;5;241m=\u001b[39m\u001b[38;5;241m1\u001b[39m \u001b[38;5;28;01mif\u001b[39;00m \u001b[38;5;129;01mnot\u001b[39;00m t\u001b[38;5;241m.\u001b[39mtotal \u001b[38;5;129;01mor\u001b[39;00m t\u001b[38;5;241m.\u001b[39mn \u001b[38;5;241m<\u001b[39m t\u001b[38;5;241m.\u001b[39mtotal \u001b[38;5;28;01melse\u001b[39;00m \u001b[38;5;241m0\u001b[39m)\n\u001b[0;32m--> 912\u001b[0m     \u001b[38;5;28;01mreturn\u001b[39;00m \u001b[43mfunc\u001b[49m\u001b[43m(\u001b[49m\u001b[38;5;241;43m*\u001b[39;49m\u001b[43margs\u001b[49m\u001b[43m,\u001b[49m\u001b[43m \u001b[49m\u001b[38;5;241;43m*\u001b[39;49m\u001b[38;5;241;43m*\u001b[39;49m\u001b[43mkwargs\u001b[49m\u001b[43m)\u001b[49m\n",
      "Cell \u001b[0;32mIn[72], line 27\u001b[0m, in \u001b[0;36mtag_data_multi_category\u001b[0;34m(data, df_dictionary, categories, category_col, content_col, kw_ls_col, tag_value_col)\u001b[0m\n\u001b[1;32m     25\u001b[0m \u001b[38;5;28;01mfor\u001b[39;00m cate \u001b[38;5;129;01min\u001b[39;00m categories:\n\u001b[1;32m     26\u001b[0m     _df_dictionary \u001b[38;5;241m=\u001b[39m df_dictionary[df_dictionary[category_col] \u001b[38;5;241m==\u001b[39m cate]\n\u001b[0;32m---> 27\u001b[0m     tag \u001b[38;5;241m=\u001b[39m \u001b[43mtag_data_one_category\u001b[49m\u001b[43m(\u001b[49m\u001b[43mcontent\u001b[49m\u001b[43m,\u001b[49m\u001b[43m \u001b[49m\u001b[43m_df_dictionary\u001b[49m\u001b[43m,\u001b[49m\u001b[43m \u001b[49m\u001b[43mkw_ls_col\u001b[49m\u001b[43m,\u001b[49m\u001b[43m \u001b[49m\u001b[43mtag_value_col\u001b[49m\u001b[43m)\u001b[49m\n\u001b[1;32m     28\u001b[0m     rst\u001b[38;5;241m.\u001b[39mappend(\u001b[38;5;124m'\u001b[39m\u001b[38;5;124m,\u001b[39m\u001b[38;5;124m'\u001b[39m\u001b[38;5;241m.\u001b[39mjoin(tag))\n\u001b[1;32m     29\u001b[0m \u001b[38;5;28;01mreturn\u001b[39;00m rst\n",
      "Cell \u001b[0;32mIn[72], line 14\u001b[0m, in \u001b[0;36mtag_data_one_category\u001b[0;34m(content, df_dictionary, kw_ls_col, tag_value_col)\u001b[0m\n\u001b[1;32m     11\u001b[0m tag_value_ls \u001b[38;5;241m=\u001b[39m []\n\u001b[1;32m     13\u001b[0m \u001b[38;5;28;01mfor\u001b[39;00m tag_value, _dictionary \u001b[38;5;129;01min\u001b[39;00m df_dictionary\u001b[38;5;241m.\u001b[39mgroupby(tag_value_col):\n\u001b[0;32m---> 14\u001b[0m     kw_ls \u001b[38;5;241m=\u001b[39m \u001b[43m_dictionary\u001b[49m\u001b[43m[\u001b[49m\u001b[43mkw_ls_col\u001b[49m\u001b[43m]\u001b[49m\u001b[38;5;241m.\u001b[39mvalues[\u001b[38;5;241m0\u001b[39m]\n\u001b[1;32m     16\u001b[0m     tag \u001b[38;5;241m=\u001b[39m _exact_matching(content, kw_ls, tag_value)\n\u001b[1;32m     18\u001b[0m     \u001b[38;5;28;01mif\u001b[39;00m tag:\n",
      "File \u001b[0;32m~/Desktop/Artefact/Pepcico/social-listening-toolkit/.venv/lib/python3.10/site-packages/pandas/core/frame.py:4102\u001b[0m, in \u001b[0;36mDataFrame.__getitem__\u001b[0;34m(self, key)\u001b[0m\n\u001b[1;32m   4100\u001b[0m \u001b[38;5;28;01mif\u001b[39;00m \u001b[38;5;28mself\u001b[39m\u001b[38;5;241m.\u001b[39mcolumns\u001b[38;5;241m.\u001b[39mnlevels \u001b[38;5;241m>\u001b[39m \u001b[38;5;241m1\u001b[39m:\n\u001b[1;32m   4101\u001b[0m     \u001b[38;5;28;01mreturn\u001b[39;00m \u001b[38;5;28mself\u001b[39m\u001b[38;5;241m.\u001b[39m_getitem_multilevel(key)\n\u001b[0;32m-> 4102\u001b[0m indexer \u001b[38;5;241m=\u001b[39m \u001b[38;5;28;43mself\u001b[39;49m\u001b[38;5;241;43m.\u001b[39;49m\u001b[43mcolumns\u001b[49m\u001b[38;5;241;43m.\u001b[39;49m\u001b[43mget_loc\u001b[49m\u001b[43m(\u001b[49m\u001b[43mkey\u001b[49m\u001b[43m)\u001b[49m\n\u001b[1;32m   4103\u001b[0m \u001b[38;5;28;01mif\u001b[39;00m is_integer(indexer):\n\u001b[1;32m   4104\u001b[0m     indexer \u001b[38;5;241m=\u001b[39m [indexer]\n",
      "File \u001b[0;32m~/Desktop/Artefact/Pepcico/social-listening-toolkit/.venv/lib/python3.10/site-packages/pandas/core/indexes/base.py:3812\u001b[0m, in \u001b[0;36mIndex.get_loc\u001b[0;34m(self, key)\u001b[0m\n\u001b[1;32m   3807\u001b[0m     \u001b[38;5;28;01mif\u001b[39;00m \u001b[38;5;28misinstance\u001b[39m(casted_key, \u001b[38;5;28mslice\u001b[39m) \u001b[38;5;129;01mor\u001b[39;00m (\n\u001b[1;32m   3808\u001b[0m         \u001b[38;5;28misinstance\u001b[39m(casted_key, abc\u001b[38;5;241m.\u001b[39mIterable)\n\u001b[1;32m   3809\u001b[0m         \u001b[38;5;129;01mand\u001b[39;00m \u001b[38;5;28many\u001b[39m(\u001b[38;5;28misinstance\u001b[39m(x, \u001b[38;5;28mslice\u001b[39m) \u001b[38;5;28;01mfor\u001b[39;00m x \u001b[38;5;129;01min\u001b[39;00m casted_key)\n\u001b[1;32m   3810\u001b[0m     ):\n\u001b[1;32m   3811\u001b[0m         \u001b[38;5;28;01mraise\u001b[39;00m InvalidIndexError(key)\n\u001b[0;32m-> 3812\u001b[0m     \u001b[38;5;28;01mraise\u001b[39;00m \u001b[38;5;167;01mKeyError\u001b[39;00m(key) \u001b[38;5;28;01mfrom\u001b[39;00m \u001b[38;5;21;01merr\u001b[39;00m\n\u001b[1;32m   3813\u001b[0m \u001b[38;5;28;01mexcept\u001b[39;00m \u001b[38;5;167;01mTypeError\u001b[39;00m:\n\u001b[1;32m   3814\u001b[0m     \u001b[38;5;66;03m# If we have a listlike key, _check_indexing_error will raise\u001b[39;00m\n\u001b[1;32m   3815\u001b[0m     \u001b[38;5;66;03m#  InvalidIndexError. Otherwise we fall through and re-raise\u001b[39;00m\n\u001b[1;32m   3816\u001b[0m     \u001b[38;5;66;03m#  the TypeError.\u001b[39;00m\n\u001b[1;32m   3817\u001b[0m     \u001b[38;5;28mself\u001b[39m\u001b[38;5;241m.\u001b[39m_check_indexing_error(key)\n",
      "\u001b[0;31mKeyError\u001b[0m: 'kw_ls'"
     ]
    }
   ],
   "source": [
    "con = get_connection()\n",
    "n = pd.read_sql(f\"select count(*) count from ({data_sql}) a\", con = con)['count'].values[0]\n",
    "chunksize = 100\n",
    "step = int(n/chunksize)\n",
    "n\n",
    "for data in tqdm(pd.read_sql(data_sql, con = con, chunksize = chunksize), total = step):\n",
    "    data = tag_data(df_dictionary, data)\n",
    "    data[['id', 'ds', *df_dictionary['tag_category'].unique().tolist() ]].to_csv('data/tagged_validation.csv', mode = 'a', index=False)"
   ]
  },
  {
   "cell_type": "code",
   "execution_count": null,
   "metadata": {},
   "outputs": [],
   "source": []
  },
  {
   "cell_type": "code",
   "execution_count": 11,
   "metadata": {},
   "outputs": [
    {
     "name": "stdout",
     "output_type": "stream",
     "text": [
      "connecting to rm-uf6lfxk83h7onjmwvjo.mysql.rds.aliyuncs.com3306/xiaohongshu\n"
     ]
    },
    {
     "name": "stderr",
     "output_type": "stream",
     "text": [
      "  0%|          | 0/587164 [00:00<?, ?it/s]"
     ]
    }
   ],
   "source": [
    "import multiprocessing as mp\n",
    "from multiprocessing import Pool\n",
    "con = get_connection(database='xiaohongshu')\n",
    "n_process = mp.cpu_count()\n",
    "\n",
    "def func(data):\n",
    "    return tag_data(df_dictionary, data)\n",
    "    \n",
    "n = pd.read_sql(f\"select count(*) count from ({data_sql}) a\", con = con)['count'].values[0]\n",
    "chunksize = 10\n",
    "step = int(n/chunksize)\n",
    "iterator = pd.read_sql(data_sql, con = con, chunksize = chunksize)\n",
    "\n",
    "if __name__  == '__main__':\n",
    "    pool = Pool(n_process)\n",
    "    for d in tqdm(pool.imap_unordered(func, iterator), total = step):\n",
    "        d[['id', 'ds', *df_dictionary['tag_category'].unique().tolist() ]].to_csv('data/tagged.csv', mode = 'a', index=False)"
   ]
  },
  {
   "cell_type": "code",
   "execution_count": 28,
   "metadata": {},
   "outputs": [
    {
     "data": {
      "text/plain": [
       "'先说万豪白金不烂大街哦[萌萌哒R]北上广江浙一带商旅人士多，三亚旅游的人多，可能大家看到的现象就觉得万豪白金烂大街，二三线城市还是非常非常好用的，具体权益和获取办法可以看我前面笔记[暗中观察R]\\n\\t\\n[举手R]今天给大家讲一个小众且高级的酒店联盟：GHA\\n大名鼎鼎的尼依格罗、三亚嘉佩乐就是这个联盟。\\n划重点：几百块钱能升级的[二R]年有效期酒店🔝会籍，只有GHA钛金！（之前bug渠道已修复）\\n\\t\\n[举手R]GHA钛金会员权益：\\n1：客房连升两级，包括行政房或套房，房型差价1k+\\n2：大部分酒店视情况供应免费双早和行政待遇，需要提前问酒店\\n3：提前至11点入住，次日可延迟至16点退房。\\n4：欢迎水果和点心\\n5：免费游泳池健身房\\n\\t\\n而且它秒升！秒升诶！[赞R]着急入住的快冲[赞R]'"
      ]
     },
     "execution_count": 28,
     "metadata": {},
     "output_type": "execute_result"
    }
   ],
   "source": [
    "data.loc[:1,'content'].values[0]"
   ]
  },
  {
   "cell_type": "code",
   "execution_count": null,
   "metadata": {},
   "outputs": [],
   "source": []
  }
 ],
 "metadata": {
  "kernelspec": {
   "display_name": ".venv",
   "language": "python",
   "name": "python3"
  },
  "language_info": {
   "codemirror_mode": {
    "name": "ipython",
    "version": 3
   },
   "file_extension": ".py",
   "mimetype": "text/x-python",
   "name": "python",
   "nbconvert_exporter": "python",
   "pygments_lexer": "ipython3",
   "version": "3.10.7"
  }
 },
 "nbformat": 4,
 "nbformat_minor": 2
}
